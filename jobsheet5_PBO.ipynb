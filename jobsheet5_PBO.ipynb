{
  "nbformat": 4,
  "nbformat_minor": 0,
  "metadata": {
    "colab": {
      "provenance": [],
      "authorship_tag": "ABX9TyM5H9V65/Pj3ImUeb4Dv3fb",
      "include_colab_link": true
    },
    "kernelspec": {
      "name": "python3",
      "display_name": "Python 3"
    },
    "language_info": {
      "name": "python"
    }
  },
  "cells": [
    {
      "cell_type": "markdown",
      "metadata": {
        "id": "view-in-github",
        "colab_type": "text"
      },
      "source": [
        "<a href=\"https://colab.research.google.com/github/riztikamerista/2025_PBO_TI1C/blob/main/jobsheet5_PBO.ipynb\" target=\"_parent\"><img src=\"https://colab.research.google.com/assets/colab-badge.svg\" alt=\"Open In Colab\"/></a>"
      ]
    },
    {
      "cell_type": "markdown",
      "source": [
        "# Praktikum 01. Polimorfisme dengan Inheritance dan Overriding"
      ],
      "metadata": {
        "id": "Jmvz-I62ZqPL"
      }
    },
    {
      "cell_type": "code",
      "execution_count": null,
      "metadata": {
        "colab": {
          "base_uri": "https://localhost:8080/"
        },
        "id": "q9xpJz6HYWYt",
        "outputId": "982f1bbe-75e8-488a-8320-6a9ed47b4256"
      },
      "outputs": [
        {
          "output_type": "stream",
          "name": "stdout",
          "text": [
            "\n",
            "Aksi Burung: \n",
            "-- Aksi untuk Elang Jawa --\n",
            "Elang Jawa terbang tinggi melayang di angkasa.\n",
            "Elang Jawa berteriak nyaring.\n",
            "---------------\n",
            "-- Aksi untuk Pipit Gereja --\n",
            "Pipit Gereja terbang cepat di antara pepohonan.\n",
            "Pipit Gereja berkicau merdu: Cit Cit!.\n",
            "---------------\n",
            "-- Aksi untuk Burung Misterius --\n",
            "Burung Misterius terbang dengan cara umum.\n",
            "Burung Misterius mengeluarkan suara burung.\n",
            "---------------\n"
          ]
        }
      ],
      "source": [
        "#Kelas Induk\n",
        "class Burung:\n",
        "  def __init__(self, nama):\n",
        "    self.nama = nama\n",
        "\n",
        "  def terbang(self):\n",
        "    print(f\"{self.nama} terbang dengan cara umum.\")\n",
        "\n",
        "  def bersuara(self):\n",
        "    print(f\"{self.nama} mengeluarkan suara burung.\")\n",
        "\n",
        "#Kelas Anak 1\n",
        "class Elang(Burung):\n",
        "  def __init__(self, nama, rentang_sayap):\n",
        "    super().__init__(nama)\n",
        "    self.rentang_sayap = rentang_sayap\n",
        "\n",
        "  #Override\n",
        "  def terbang(self):\n",
        "    print(f\"{self.nama} terbang tinggi melayang di angkasa.\")\n",
        "\n",
        "  #Override\n",
        "  def bersuara(self):\n",
        "    print(f\"{self.nama} berteriak nyaring.\")\n",
        "\n",
        "#Kelas Anak 2\n",
        "class Pipit(Burung):\n",
        "  def __init__(self, nama, warna_bulu):\n",
        "    super().__init__(nama)\n",
        "    self.warna_bulu = warna_bulu\n",
        "\n",
        "  #Override\n",
        "  def terbang(self):\n",
        "    print(f\"{self.nama} terbang cepat di antara pepohonan.\")\n",
        "\n",
        "  #Override\n",
        "  def bersuara(self):\n",
        "    print(f\"{self.nama} berkicau merdu: Cit Cit!.\")\n",
        "\n",
        "#Fungsi yang Memanfaatkan Polimorfisme\n",
        "def demonstrasi_aksi_burung(daftar_burung):\n",
        "  print(\"\\nAksi Burung: \")\n",
        "  for burung in daftar_burung:\n",
        "    print(f\"-- Aksi untuk {burung.nama} --\")\n",
        "    #Panggilan metode yang sama, tapi perilaku berbeda tergantung objek\n",
        "    burung.terbang()\n",
        "    burung.bersuara()\n",
        "    print(\"-\" * 15)\n",
        "\n",
        "#-- Kode Utama --\n",
        "if __name__ == \"__main__\":\n",
        "  elang_jawa = Elang(\"Elang Jawa\", 1.5)\n",
        "  pipit_gereja = Pipit(\"Pipit Gereja\", \"Coklat\")\n",
        "  burung_aneh = Burung(\"Burung Misterius\") #Objek dari kelas induk\n",
        "\n",
        "  koleksi_burung =[elang_jawa, pipit_gereja, burung_aneh]\n",
        "  demonstrasi_aksi_burung(koleksi_burung)"
      ]
    },
    {
      "cell_type": "markdown",
      "source": [
        "# Praktikum 02. Polimorfisme dengan Duck Typing"
      ],
      "metadata": {
        "id": "AoJcjOAGcuIN"
      }
    },
    {
      "cell_type": "code",
      "source": [
        "class Kucing:\n",
        "  def bersuara(self):\n",
        "    print(\"Kucing: Meow!\")\n",
        "\n",
        "class Anjing:\n",
        "  def bersuara(self):\n",
        "    print(\"Anjing: Guk Guk!\")\n",
        "\n",
        "class Bebek:\n",
        "  def bersuara(self):\n",
        "    print(\"Bebek: Kwek Kwek!\")\n",
        "\n",
        "class Mobil: #Kelas ini tidak memiliki metode Bersuara\n",
        "  def jalankan(self):\n",
        "    print(\"Mobil: Brumm!\")\n",
        "\n",
        "#Fungsi ini tidak peduli tipe objeknya,\n",
        "#asal punya metode .bersuara()\n",
        "def buat_suara(objek_yang_bisa_bersuara):\n",
        "  try:\n",
        "    #Memanggil metode 'bersuara' jika ada\n",
        "    objek_yang_bisa_bersuara.bersuara()\n",
        "  except AttributeError:\n",
        "    #Menangani jika objek tidak punya metode 'bersuara'\n",
        "    print(f\"Objek {type(objek_yang_bisa_bersuara).__name__} tidak bisa bersuara.\")\n",
        "\n",
        "#-- Kode Utama --\n",
        "if __name__ == \"__main__\":\n",
        "  kucing1 = Kucing()\n",
        "  anjing1 = Anjing()\n",
        "  bebek1 = Bebek()\n",
        "  mobil1 = Mobil()\n",
        "\n",
        "  daftar_objek = [kucing1, anjing1, bebek1, mobil1]\n",
        "\n",
        "  print(\"Demonstrasi Duck Typing: \")\n",
        "  for item in daftar_objek:\n",
        "    buat_suara(item) #Fungsi polimorfik via duck typing"
      ],
      "metadata": {
        "colab": {
          "base_uri": "https://localhost:8080/"
        },
        "id": "HKu-6h4ecc_4",
        "outputId": "000098e3-119d-4f42-81c3-2d9cffe0a9f1"
      },
      "execution_count": null,
      "outputs": [
        {
          "output_type": "stream",
          "name": "stdout",
          "text": [
            "Demonstrasi Duck Typing: \n",
            "Kucing: Meow!\n",
            "Anjing: Guk Guk!\n",
            "Bebek: Kwek Kwek!\n",
            "Objek Mobil tidak bisa bersuara.\n"
          ]
        }
      ]
    },
    {
      "cell_type": "markdown",
      "source": [
        "# Praktikum 03. Simulasi Overloading dalam Metode Kelas dengan *args"
      ],
      "metadata": {
        "id": "ZeCbNmv0e6Tt"
      }
    },
    {
      "cell_type": "code",
      "source": [
        "class KalkulatorSederhana:\n",
        "  def __init__(self, nama=\"Kalkulator\"):\n",
        "    self.nama = nama\n",
        "    print(f\"{self.nama} siap digunakan.\")\n",
        "\n",
        "  def tambah(self, *args):\n",
        "    \"\"\"\n",
        "    Metode ini menjumlahkan semua argumen angka yang diberikan.\n",
        "    Menerima sejumlah argumen posisi menggunakan *args.\n",
        "    \"\"\"\n",
        "    print(f\"\\nMemanggil metode tambah dengan argumen: {args}\")\n",
        "    if not args:\n",
        "      print(\"Tidak ada angka untuk dijumlahkan.\")\n",
        "      return 0 #Atau bisa juga None atau raise error\n",
        "\n",
        "    total = 0\n",
        "    valid_input = True\n",
        "    for angka in args:\n",
        "      #Melakukan pengecekan tipe sederhana\n",
        "      if isinstance(angka, (int, float)):\n",
        "        total += angka\n",
        "      else:\n",
        "        print(f\"Peringatan: Argumen '{angka}' bukan angka dan akan diabaikan.\")\n",
        "        valid_input = False\n",
        "\n",
        "    if valid_input:\n",
        "      print(f\"Hasil penjumlahan: {total}\")\n",
        "    else:\n",
        "      print(f\"Hasil penjumlahan (dengan beberapa input diabaikan): {total}\")\n",
        "    return total\n",
        "\n",
        "#-- Kode Utama --\n",
        "if __name__ == \"__main__\":\n",
        "  calc = KalkulatorSederhana(\"Calc-01\")\n",
        "\n",
        "  #Memanggil metode 'tambah' dengan jumlah argumen berbeda\n",
        "  print(\"\\n--- Percobaan Penjumlahan ---\")\n",
        "  calc.tambah(5, 10)\n",
        "  calc.tambah(2, 3, 5, 10)\n",
        "  calc.tambah(100)\n",
        "  calc.tambah() #Tanpa Argumen\n",
        "  calc.tambah(1, 2, \"tiga\", 4, 5.5) #Dengan input non-angka"
      ],
      "metadata": {
        "colab": {
          "base_uri": "https://localhost:8080/"
        },
        "id": "syB6CBAUeHBi",
        "outputId": "fcf43d92-cd1e-4754-8ad0-1e28ee99c525"
      },
      "execution_count": null,
      "outputs": [
        {
          "output_type": "stream",
          "name": "stdout",
          "text": [
            "Calc-01 siap digunakan.\n",
            "\n",
            "--- Percobaan Penjumlahan ---\n",
            "\n",
            "Memanggil metode tambah dengan argumen: (5, 10)\n",
            "Hasil penjumlahan: 15\n",
            "\n",
            "Memanggil metode tambah dengan argumen: (2, 3, 5, 10)\n",
            "Hasil penjumlahan: 20\n",
            "\n",
            "Memanggil metode tambah dengan argumen: (100,)\n",
            "Hasil penjumlahan: 100\n",
            "\n",
            "Memanggil metode tambah dengan argumen: ()\n",
            "Tidak ada angka untuk dijumlahkan.\n",
            "\n",
            "Memanggil metode tambah dengan argumen: (1, 2, 'tiga', 4, 5.5)\n",
            "Peringatan: Argumen 'tiga' bukan angka dan akan diabaikan.\n",
            "Hasil penjumlahan (dengan beberapa input diabaikan): 12.5\n"
          ]
        }
      ]
    },
    {
      "cell_type": "markdown",
      "source": [
        "# Praktikum 04. Simulasi Overloading dalam Metode Kelas dengan *args dan **kwargs"
      ],
      "metadata": {
        "id": "IyVDk33Ahu8m"
      }
    },
    {
      "cell_type": "code",
      "source": [
        "class DataProcessor:\n",
        "  def __init__(self, processor_id):\n",
        "    self.processor_id = processor_id\n",
        "    print(f\"Data Processor {self.processor_id} siap.\")\n",
        "\n",
        "  def process(self, *args, **kwargs):\n",
        "    \"\"\"\n",
        "    Metode ini memproses data dengan argumen posisi (*args)\n",
        "    dan kata kunci (**kwargs) yang jumlahnya variabel.\n",
        "    \"\"\"\n",
        "    print(f\"\\n--- {self.processor_id} Memproses Data ---\")\n",
        "\n",
        "    #Memproses argumen posisi (*args -> tuple)\n",
        "    if args:\n",
        "      print(\"Argumen Posisi Diterima: \")\n",
        "      for i, arg in enumerate(args):\n",
        "        print(f\"args [{i}]: {arg} (tipe: {type(arg).__name__})\")\n",
        "\n",
        "    else:\n",
        "      print(\"Tidak ada argumen posisi.\")\n",
        "\n",
        "    #Memproses argumen kata kunci (**kwargs -> dict)\n",
        "    if kwargs:\n",
        "      print(\"Argumen Kata Kunci Diterima: \")\n",
        "      for kunci, nilai in kwargs.items():\n",
        "        print(f\"{kunci}: {nilai} (tipe: {type(nilai).__name__})\")\n",
        "\n",
        "    else:\n",
        "      print(\"Tidak ada argumen kata kunci.\")\n",
        "      print(\"---------------------------------\")\n",
        "\n",
        "#--- Kode Utama ---\n",
        "if __name__ == \"__main__\":\n",
        "  #Membuat instaNce dari Kelas\n",
        "  processor1 = DataProcessor(\"DP-001\")\n",
        "\n",
        "  #Memanggil metode 'process' dengan berbagai cara\n",
        "  print(\"\\nPanggilan 1: Tanpa argumen tambahan\")\n",
        "  processor1.process()\n",
        "  print(\"\\nPanggilan 2: Hanya argumen posisi\")\n",
        "  processor1.process(100, \"Status OK\", 99.9, False)\n",
        "  print(f\"\\nPanggilan 3: Hanya argumen kata kunci\")\n",
        "  processor1.process(user=\"admin\", level=5, mode=\"verbose\")\n",
        "  print(f\"\\nPanggilan 4: Kombinasi argumen posisi dan kata kunci\")\n",
        "  processor1.process(\"Task-A\", \"Task-B\", status=\"Running\", priority=\"High\", thread_id=54321)\n",
        "\n",
        "  #Panggilan dengan list dan dictionary sebagai argumen posisi\n",
        "  print(\"\\nPanggilan 5: Argumen posisi kompleks\")\n",
        "  list_ids = [\"A1\", \"B2\", \"C3\"]\n",
        "  dict_params = {\"timeout\": 30, \"retry\": 3}\n",
        "  processor1.process(list_ids, dict_params, owner=\"system\", enabled=True)"
      ],
      "metadata": {
        "colab": {
          "base_uri": "https://localhost:8080/"
        },
        "id": "I3F0-deBhT8D",
        "outputId": "9dee825f-227b-4e31-f0a1-fa663f658b6d"
      },
      "execution_count": null,
      "outputs": [
        {
          "output_type": "stream",
          "name": "stdout",
          "text": [
            "Data Processor DP-001 siap.\n",
            "\n",
            "Panggilan 1: Tanpa argumen tambahan\n",
            "\n",
            "--- DP-001 Memproses Data ---\n",
            "Tidak ada argumen posisi.\n",
            "Tidak ada argumen kata kunci.\n",
            "---------------------------------\n",
            "\n",
            "Panggilan 2: Hanya argumen posisi\n",
            "\n",
            "--- DP-001 Memproses Data ---\n",
            "Argumen Posisi Diterima: \n",
            "args [0]: 100 (tipe: int)\n",
            "args [1]: Status OK (tipe: str)\n",
            "args [2]: 99.9 (tipe: float)\n",
            "args [3]: False (tipe: bool)\n",
            "Tidak ada argumen kata kunci.\n",
            "---------------------------------\n",
            "\n",
            "Panggilan 3: Hanya argumen kata kunci\n",
            "\n",
            "--- DP-001 Memproses Data ---\n",
            "Tidak ada argumen posisi.\n",
            "Argumen Kata Kunci Diterima: \n",
            "user: admin (tipe: str)\n",
            "level: 5 (tipe: int)\n",
            "mode: verbose (tipe: str)\n",
            "\n",
            "Panggilan 4: Kombinasi argumen posisi dan kata kunci\n",
            "\n",
            "--- DP-001 Memproses Data ---\n",
            "Argumen Posisi Diterima: \n",
            "args [0]: Task-A (tipe: str)\n",
            "args [1]: Task-B (tipe: str)\n",
            "Argumen Kata Kunci Diterima: \n",
            "status: Running (tipe: str)\n",
            "priority: High (tipe: str)\n",
            "thread_id: 54321 (tipe: int)\n",
            "\n",
            "Panggilan 5: Argumen posisi kompleks\n",
            "\n",
            "--- DP-001 Memproses Data ---\n",
            "Argumen Posisi Diterima: \n",
            "args [0]: ['A1', 'B2', 'C3'] (tipe: list)\n",
            "args [1]: {'timeout': 30, 'retry': 3} (tipe: dict)\n",
            "Argumen Kata Kunci Diterima: \n",
            "owner: system (tipe: str)\n",
            "enabled: True (tipe: bool)\n"
          ]
        }
      ]
    },
    {
      "cell_type": "markdown",
      "source": [
        "# Praktikum 05. Kombinasi Polimorfisme (Inheritance & Duck Typing)"
      ],
      "metadata": {
        "id": "csOckFoenhdI"
      }
    },
    {
      "cell_type": "code",
      "source": [
        "import math\n",
        "\n",
        "#-- Definisi kelas dari hierarki inheritance --\n",
        "class Bentuk:\n",
        "  #Metode ini bisa dianggap sebagai 'template' atau inheritance dasar\n",
        "  def nama_bentuk(self):\n",
        "    return \"Bentuk Generik\"\n",
        "\n",
        "  #Metode ini wajib di-override oleh subclass\n",
        "  def hitung_luas(self):\n",
        "    raise NotImplementedError(\"Subclass harus mengimplementasikan metode ini.\")\n",
        "\n",
        "class Lingkaran(Bentuk):\n",
        "  def __init__(self, radius):\n",
        "    self.radius = radius\n",
        "\n",
        "  #Override\n",
        "  def nama_bentuk(self):\n",
        "    return \"Lingkaran\"\n",
        "\n",
        "  #Override\n",
        "  def hitung_luas(self):\n",
        "    return math.pi * (self.radius ** 2)\n",
        "\n",
        "class Persegi(Bentuk):\n",
        "  def __init__(self, sisi):\n",
        "    self.sisi = sisi\n",
        "\n",
        "  #Override\n",
        "  def nama_bentuk(self):\n",
        "    return \"Persegi\"\n",
        "\n",
        "  #Override\n",
        "  def hitung_luas(self):\n",
        "    return self.sisi * self.sisi\n",
        "\n",
        "#--- Definisi Kelas Lain (Tidak terkait Inheritance dengan Bentuk) ---\n",
        "class TaplakMeja:\n",
        "  def __init__(self, panjang, lebar):\n",
        "    self.panjang = panjang\n",
        "    self.lebar = lebar\n",
        "\n",
        "  #Metode dengan nama sama -> 'hitung_luas'\n",
        "  #Ini memungkinkan TaplakMeja bekerja dengan fungsi polimorfik di bawah\n",
        "  def hitung_luas(self):\n",
        "    return self.panjang * self.lebar\n",
        "\n",
        "  #Metode yang berbeda, tidak ada di Kelas Bentuk\n",
        "  def deskripsi(self):\n",
        "    return f\"Taplak Meja {self.panjang}x{self.lebar}\"\n",
        "\n",
        "#Fungsi Polimorfik\n",
        "def tampilkan_info_luas(objek_dengan_luas):\n",
        "  print(\"-\"*20)\n",
        "  try:\n",
        "    #Mencoba memanggil hitung_luas() - inti polimorfisme\n",
        "    luas = objek_dengan_luas.hitung_luas()\n",
        "\n",
        "    #Mencoba mendapatkan nama jika ada (duck typing tambahan)\n",
        "    try:\n",
        "      nama  = objek_dengan_luas.nama_bentuk()\n",
        "    except AttributeError:\n",
        "      #Jika tidak ada nama_bentuk(), gunakan nama kelasnya\n",
        "      nama = type(objek_dengan_luas).__name__\n",
        "    print(f\"Objek: {nama}\")\n",
        "    print(f\"Luas: {luas: .2f}\") #Format luas 2 angka desimal\n",
        "\n",
        "  except AttributeError:\n",
        "    #Menangani jika objek sama sekali tidak punya .hitung_luas()\n",
        "    print(f\"Objek {type(objek_dengan_luas).__name__} tidak dapat dihitung luasnya (metode tidak ditemukan).\")\n",
        "  except NotImplementedError:\n",
        "    #Menangani jika metode ada tapi belum diimplementasi (dari kelas Bentuk)\n",
        "    print(f\"Metode 'hitung_luas' belum diimplementasi untuk {type(objek_dengan_luas).__name__}.\")\n",
        "\n",
        "#-- Kode Utama --\n",
        "if __name__ == \"__main__\":\n",
        "  lingkaran1 = Lingkaran(7)\n",
        "  persegi1 = Persegi(5)\n",
        "  taplak1 = TaplakMeja(1.5, 0.8)\n",
        "  bentuk_dasar = Bentuk() #Objek kelas induk (akan raise NotImplementedError)\n",
        "  string_biasa = \"Ini string\" #Objek yang tidak relevan\n",
        "  daftar_item = [lingkaran1, persegi1, taplak1, bentuk_dasar, string_biasa]\n",
        "  print(\"Menampilkan Info Luas (Polimorfisme Campuran): \")\n",
        "  for item in daftar_item:\n",
        "    tampilkan_info_luas(item)"
      ],
      "metadata": {
        "colab": {
          "base_uri": "https://localhost:8080/"
        },
        "id": "lKBTWzMhl3Yl",
        "outputId": "a728ee80-a56d-4cfa-ab09-abcd28aa28fa"
      },
      "execution_count": null,
      "outputs": [
        {
          "output_type": "stream",
          "name": "stdout",
          "text": [
            "Menampilkan Info Luas (Polimorfisme Campuran): \n",
            "--------------------\n",
            "Objek: Lingkaran\n",
            "Luas:  153.94\n",
            "--------------------\n",
            "Objek: Persegi\n",
            "Luas:  25.00\n",
            "--------------------\n",
            "Objek: TaplakMeja\n",
            "Luas:  1.20\n",
            "--------------------\n",
            "Metode 'hitung_luas' belum diimplementasi untuk Bentuk.\n",
            "--------------------\n",
            "Objek str tidak dapat dihitung luasnya (metode tidak ditemukan).\n"
          ]
        }
      ]
    },
    {
      "cell_type": "markdown",
      "source": [
        "# Praktikum 06. kontrol Perilaku Polimorfik dengan isinstance()"
      ],
      "metadata": {
        "id": "e4z7y1c9svkf"
      }
    },
    {
      "cell_type": "code",
      "source": [
        "#-- Definisi Kelas Burung, Elang, Pipit --\n",
        "class Burung:\n",
        "  def __init__(self,nama):\n",
        "    self.nama = nama\n",
        "  def terbang (self):\n",
        "    print (f\"{self.nama} terbang dengan cara umum.\")\n",
        "  def bersuara(self):\n",
        "    print(f\"{self.nama} mengeluarkan suara burung.\")\n",
        "\n",
        "class Elang(Burung):\n",
        "  def __init__(self, nama, rentang_sayap):\n",
        "      super().__init__(nama)\n",
        "      self.rentang_sayap = rentang_sayap\n",
        "  #Override\n",
        "  def terbang (self):\n",
        "    print(f\"{self.nama} terbang tinggi melayang di angkasa.\")\n",
        "  #Override\n",
        "  def bersuara(self):\n",
        "    print(f\"{self.nama} berteriak nyaring.\")\n",
        "  #Metode khusus Elang\n",
        "  def berburu(self):\n",
        "    print(f\"{self.nama} sedang mencari mangsa dari ketinggian.\")\n",
        "\n",
        "class Pipit(Burung):\n",
        "  def __init__(self, nama, warna_bulu):\n",
        "    super().__init__(nama)\n",
        "    self.warna_bulu = warna_bulu\n",
        "  #Override\n",
        "  def terbang(self):\n",
        "    print(f\"{self.nama} terbang cepat di antara pepohonan.\")\n",
        "  #Override\n",
        "  def bersuara(self):\n",
        "    print(f\"{self.nama} berkicau merdu: Cit Cit!.\")\n",
        "  #Metode khusus Pipit\n",
        "  def membangun_sarang(self):\n",
        "    print(f\"{self.nama} sedang mengumpulkan ranting untuk sarang.\")\n",
        "\n",
        "#--- Fungsi yang memanfaatkan polimorfisme dan isinstance() ---\n",
        "def interaksi_dengan_burung(burung):\n",
        "  print(f\"\\n--- Berinteraksi dengan {type(burung).__name__}: {getattr(burung, 'nama', 'Objek tidak dikenal')} ---\")\n",
        "  #Cek dulu apakh objek adalah instance dari Burung atau turunannya\n",
        "  if isinstance(burung, Burung):\n",
        "    #Perilaku polimorfik dasar (memanggil metode override)\n",
        "    burung.terbang()\n",
        "    burung.bersuara()\n",
        "\n",
        "    #Menambahkan perilaku spesifik berdasarkan tipe turunan\n",
        "    if isinstance(burung, Elang):\n",
        "      print(\"-> Ini adalah Elang!\")\n",
        "      burung.berburu() #Panggil metode khusus Elang\n",
        "    elif isinstance(burung, Pipit):\n",
        "      print(\"-> Ini adalah Pipit!\")\n",
        "      burung.membangun_sarang() #Panggil metode khusus Pipit\n",
        "    else:\n",
        "      #hanya burung generik, bukan turunan spesifik yang dikenali\n",
        "      print(\"-> Ini adalah burung jenis umum (Bukan Elang/Pipit).\")\n",
        "  else:\n",
        "    #jika objek bukan instance burung sama sekali\n",
        "    print(\"-> Objek ini bukan termasuk jenis Burung.\")\n",
        "    print(\"-\"*25)\n",
        "\n",
        "#--- Kode Utama ---\n",
        "if __name__ == \"__main__\":\n",
        "  elang_sumatra = Elang(\"Elang Sumatra\", 1.8)\n",
        "  pipit_rumah = Pipit(\"Pipit Rumah\", \"Abu-Abu\")\n",
        "  merak = Burung (\"Merak\") #Contoh Burung lain (induk)\n",
        "  kucing_tetangga = \"Meong\" #Objek non-Burung\n",
        "  koleksi_makhluk = [elang_sumatra, pipit_rumah, merak, kucing_tetangga]\n",
        "  for makhluk in koleksi_makhluk:\n",
        "    interaksi_dengan_burung(makhluk)"
      ],
      "metadata": {
        "colab": {
          "base_uri": "https://localhost:8080/"
        },
        "id": "hvIf2UCjskGj",
        "outputId": "7e19ea2c-49c6-449b-e972-888dcd468a86"
      },
      "execution_count": null,
      "outputs": [
        {
          "output_type": "stream",
          "name": "stdout",
          "text": [
            "\n",
            "--- Berinteraksi dengan Elang: Elang Sumatra ---\n",
            "Elang Sumatra terbang tinggi melayang di angkasa.\n",
            "Elang Sumatra berteriak nyaring.\n",
            "-> Ini adalah Elang!\n",
            "Elang Sumatra sedang mencari mangsa dari ketinggian.\n",
            "\n",
            "--- Berinteraksi dengan Pipit: Pipit Rumah ---\n",
            "Pipit Rumah terbang cepat di antara pepohonan.\n",
            "Pipit Rumah berkicau merdu: Cit Cit!.\n",
            "-> Ini adalah Pipit!\n",
            "Pipit Rumah sedang mengumpulkan ranting untuk sarang.\n",
            "\n",
            "--- Berinteraksi dengan Burung: Merak ---\n",
            "Merak terbang dengan cara umum.\n",
            "Merak mengeluarkan suara burung.\n",
            "-> Ini adalah burung jenis umum (Bukan Elang/Pipit).\n",
            "\n",
            "--- Berinteraksi dengan str: Objek tidak dikenal ---\n",
            "-> Objek ini bukan termasuk jenis Burung.\n",
            "-------------------------\n"
          ]
        }
      ]
    },
    {
      "cell_type": "markdown",
      "source": [
        "# Penugasan"
      ],
      "metadata": {
        "id": "LqMk-T450TJf"
      }
    },
    {
      "cell_type": "code",
      "source": [
        "#Kelas Induk\n",
        "class Komputer:\n",
        "  def __init__(self, merk, processor, ram_gb):\n",
        "    self.merk = merk\n",
        "    self.processor = processor\n",
        "    self.ram_gb = ram_gb\n",
        "\n",
        "  def info_spesifikasi(self):\n",
        "    print(f\"Merk: {self.merk}\")\n",
        "    print(f\"Processor: {self.processor}\")\n",
        "    print(f\"RAM: {self.ram_gb} GB\")\n",
        "\n",
        "  def jalankan_aplikasi(self, nama_aplikasi):\n",
        "    self.nama_aplikasi = nama_aplikasi\n",
        "    print(f\"{self.merk} menjalankan aplikasi: {self.nama_aplikasi} \")\n",
        "\n",
        "  def upgrade_ram(self, tambahan_gb, tipe_ram=\"DDR4\"):\n",
        "    self.ram_gb += tambahan_gb\n",
        "    print(f\"RAM {self.merk} diupgrade sebesar {tambahan_gb} GB (Tipe: {tipe_ram}).\")\n",
        "    print(f\"Total RAM sekarang: {self.ram_gb} GB\")\n",
        "\n",
        "#Kelas Anak 1\n",
        "class Laptop(Komputer):\n",
        "  def __init__(self, merk, processor, ram_gb, ukuran_layar_inch, berat_kg):\n",
        "    super().__init__(merk, processor, ram_gb)\n",
        "    self.ukuran_layar_inch = ukuran_layar_inch\n",
        "    self.berat_kg = berat_kg\n",
        "\n",
        "  #Override\n",
        "  def info_spesifikasi(self):\n",
        "    super().info_spesifikasi()\n",
        "    print(f\"Ukuran Layar: {self.ukuran_layar_inch} inch.\")\n",
        "    print(f\"Berat: {self.berat_kg} kg.\")\n",
        "\n",
        "#Kelas Anak 2\n",
        "class Desktop(Komputer):\n",
        "  def __init__(self, merk, processor, ram_gb, jenis_casing, monitor_external):\n",
        "    super().__init__(merk, processor, ram_gb)\n",
        "    self.jenis_casing = jenis_casing\n",
        "    self.monitor_external = monitor_external\n",
        "\n",
        "  #Override\n",
        "  def info_spesifikasi(self):\n",
        "    super().info_spesifikasi()\n",
        "    print(f\"Jenis Casing: {self.jenis_casing}.\")\n",
        "    print(f\"Monitor External: {'Iya' if self.monitor_external else Tidak}.\")\n",
        "\n",
        "def cetak_semua_spesifikasi(daftar_komputer):\n",
        "  for komputer in daftar_komputer:\n",
        "    komputer.info_spesifikasi()\n",
        "    print(\"-\"*20)\n",
        "\n",
        "#Kode Utama\n",
        "if __name__ == \"__main__\":\n",
        "  komputer1 = Komputer(\"Dell\", \"Intel Core i3\", 4)\n",
        "  laptop1 = Laptop(\"HP\", \"AMD Ryzen 7\", 16, 14.0, 1.5)\n",
        "  desktop1 = Desktop(\"Acer\", \"Intel Core 5\", 8, \"Tower\", True)\n",
        "\n",
        "  daftar_komputer = [komputer1, laptop1, desktop1]\n",
        "\n",
        "  print(\"--- Daftar Spesifikasi Komputer ---\")\n",
        "  cetak_semua_spesifikasi(daftar_komputer)\n",
        "\n",
        "  print(\"\\n--- Upgrade RAM ---\")\n",
        "  laptop1.upgrade_ram(4)\n",
        "  desktop1.upgrade_ram(4, \"DDR5\")"
      ],
      "metadata": {
        "id": "whO-kS3LxJpJ",
        "colab": {
          "base_uri": "https://localhost:8080/"
        },
        "outputId": "83a5a42c-d115-4eb3-cc5f-791715ff06f2"
      },
      "execution_count": null,
      "outputs": [
        {
          "output_type": "stream",
          "name": "stdout",
          "text": [
            "--- Daftar Spesifikasi Komputer ---\n",
            "Merk: Dell\n",
            "Processor: Intel Core i3\n",
            "RAM: 4 GB\n",
            "--------------------\n",
            "Merk: HP\n",
            "Processor: AMD Ryzen 7\n",
            "RAM: 16 GB\n",
            "Ukuran Layar: 14.0 inch.\n",
            "Berat: 1.5 kg.\n",
            "--------------------\n",
            "Merk: Acer\n",
            "Processor: Intel Core 5\n",
            "RAM: 8 GB\n",
            "Jenis Casing: Tower.\n",
            "Monitor External: Iya.\n",
            "--------------------\n",
            "\n",
            "--- Upgrade RAM ---\n",
            "RAM HP diupgrade sebesar 4 GB (Tipe: DDR4).\n",
            "Total RAM sekarang: 20 GB\n",
            "RAM Acer diupgrade sebesar 4 GB (Tipe: DDR5).\n",
            "Total RAM sekarang: 12 GB\n"
          ]
        }
      ]
    },
    {
      "cell_type": "code",
      "source": [],
      "metadata": {
        "id": "Vf9UXg_mWNDA"
      },
      "execution_count": null,
      "outputs": []
    }
  ]
}