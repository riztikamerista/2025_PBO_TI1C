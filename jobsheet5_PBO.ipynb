{
  "nbformat": 4,
  "nbformat_minor": 0,
  "metadata": {
    "colab": {
      "provenance": [],
      "authorship_tag": "ABX9TyMqqSIULroNi31x0HnjWSRv",
      "include_colab_link": true
    },
    "kernelspec": {
      "name": "python3",
      "display_name": "Python 3"
    },
    "language_info": {
      "name": "python"
    }
  },
  "cells": [
    {
      "cell_type": "markdown",
      "metadata": {
        "id": "view-in-github",
        "colab_type": "text"
      },
      "source": [
        "<a href=\"https://colab.research.google.com/github/riztikamerista/2025_PBO_TI1C/blob/main/jobsheet5_PBO.ipynb\" target=\"_parent\"><img src=\"https://colab.research.google.com/assets/colab-badge.svg\" alt=\"Open In Colab\"/></a>"
      ]
    },
    {
      "cell_type": "markdown",
      "source": [
        "# Praktikum 01. Polimorfisme dengan Inheritance dan Overriding"
      ],
      "metadata": {
        "id": "Jmvz-I62ZqPL"
      }
    },
    {
      "cell_type": "code",
      "execution_count": 1,
      "metadata": {
        "colab": {
          "base_uri": "https://localhost:8080/"
        },
        "id": "q9xpJz6HYWYt",
        "outputId": "982f1bbe-75e8-488a-8320-6a9ed47b4256"
      },
      "outputs": [
        {
          "output_type": "stream",
          "name": "stdout",
          "text": [
            "\n",
            "Aksi Burung: \n",
            "-- Aksi untuk Elang Jawa --\n",
            "Elang Jawa terbang tinggi melayang di angkasa.\n",
            "Elang Jawa berteriak nyaring.\n",
            "---------------\n",
            "-- Aksi untuk Pipit Gereja --\n",
            "Pipit Gereja terbang cepat di antara pepohonan.\n",
            "Pipit Gereja berkicau merdu: Cit Cit!.\n",
            "---------------\n",
            "-- Aksi untuk Burung Misterius --\n",
            "Burung Misterius terbang dengan cara umum.\n",
            "Burung Misterius mengeluarkan suara burung.\n",
            "---------------\n"
          ]
        }
      ],
      "source": [
        "#Kelas Induk\n",
        "class Burung:\n",
        "  def __init__(self, nama):\n",
        "    self.nama = nama\n",
        "\n",
        "  def terbang(self):\n",
        "    print(f\"{self.nama} terbang dengan cara umum.\")\n",
        "\n",
        "  def bersuara(self):\n",
        "    print(f\"{self.nama} mengeluarkan suara burung.\")\n",
        "\n",
        "#Kelas Anak 1\n",
        "class Elang(Burung):\n",
        "  def __init__(self, nama, rentang_sayap):\n",
        "    super().__init__(nama)\n",
        "    self.rentang_sayap = rentang_sayap\n",
        "\n",
        "  #Override\n",
        "  def terbang(self):\n",
        "    print(f\"{self.nama} terbang tinggi melayang di angkasa.\")\n",
        "\n",
        "  #Override\n",
        "  def bersuara(self):\n",
        "    print(f\"{self.nama} berteriak nyaring.\")\n",
        "\n",
        "#Kelas Anak 2\n",
        "class Pipit(Burung):\n",
        "  def __init__(self, nama, warna_bulu):\n",
        "    super().__init__(nama)\n",
        "    self.warna_bulu = warna_bulu\n",
        "\n",
        "  #Override\n",
        "  def terbang(self):\n",
        "    print(f\"{self.nama} terbang cepat di antara pepohonan.\")\n",
        "\n",
        "  #Override\n",
        "  def bersuara(self):\n",
        "    print(f\"{self.nama} berkicau merdu: Cit Cit!.\")\n",
        "\n",
        "#Fungsi yang Memanfaatkan Polimorfisme\n",
        "def demonstrasi_aksi_burung(daftar_burung):\n",
        "  print(\"\\nAksi Burung: \")\n",
        "  for burung in daftar_burung:\n",
        "    print(f\"-- Aksi untuk {burung.nama} --\")\n",
        "    #Panggilan metode yang sama, tapi perilaku berbeda tergantung objek\n",
        "    burung.terbang()\n",
        "    burung.bersuara()\n",
        "    print(\"-\" * 15)\n",
        "\n",
        "#-- Kode Utama --\n",
        "if __name__ == \"__main__\":\n",
        "  elang_jawa = Elang(\"Elang Jawa\", 1.5)\n",
        "  pipit_gereja = Pipit(\"Pipit Gereja\", \"Coklat\")\n",
        "  burung_aneh = Burung(\"Burung Misterius\") #Objek dari kelas induk\n",
        "\n",
        "  koleksi_burung =[elang_jawa, pipit_gereja, burung_aneh]\n",
        "  demonstrasi_aksi_burung(koleksi_burung)"
      ]
    },
    {
      "cell_type": "markdown",
      "source": [
        "# Praktikum 02. Polimorfisme dengan Duck Typing"
      ],
      "metadata": {
        "id": "AoJcjOAGcuIN"
      }
    },
    {
      "cell_type": "code",
      "source": [
        "class Kucing:\n",
        "  def bersuara(self):\n",
        "    print(\"Kucing: Meow!\")\n",
        "\n",
        "class Anjing:\n",
        "  def bersuara(self):\n",
        "    print(\"Anjing: Guk Guk!\")\n",
        "\n",
        "class Bebek:\n",
        "  def bersuara(self):\n",
        "    print(\"Bebek: Kwek Kwek!\")\n",
        "\n",
        "class Mobil: #Kelas ini tidak memiliki metode Bersuara\n",
        "  def jalankan(self):\n",
        "    print(\"Mobil: Brumm!\")\n",
        "\n",
        "#Fungsi ini tidak peduli tipe objeknya,\n",
        "#asal punya metode .bersuara()\n",
        "def buat_suara(objek_yang_bisa_bersuara):\n",
        "  try:\n",
        "    #Memanggil metode 'bersuara' jika ada\n",
        "    objek_yang_bisa_bersuara.bersuara()\n",
        "  except AttributeError:\n",
        "    #Menangani jika objek tidak punya metode 'bersuara'\n",
        "    print(f\"Objek {type(objek_yang_bisa_bersuara).__name__} tidak bisa bersuara.\")\n",
        "\n",
        "#-- Kode Utama --\n",
        "if __name__ == \"__main__\":\n",
        "  kucing1 = Kucing()\n",
        "  anjing1 = Anjing()\n",
        "  bebek1 = Bebek()\n",
        "  mobil1 = Mobil()\n",
        "\n",
        "  daftar_objek = [kucing1, anjing1, bebek1, mobil1]\n",
        "\n",
        "  print(\"Demonstrasi Duck Typing: \")\n",
        "  for item in daftar_objek:\n",
        "    buat_suara(item) #Fungsi polimorfik via duck typing"
      ],
      "metadata": {
        "colab": {
          "base_uri": "https://localhost:8080/"
        },
        "id": "HKu-6h4ecc_4",
        "outputId": "000098e3-119d-4f42-81c3-2d9cffe0a9f1"
      },
      "execution_count": 3,
      "outputs": [
        {
          "output_type": "stream",
          "name": "stdout",
          "text": [
            "Demonstrasi Duck Typing: \n",
            "Kucing: Meow!\n",
            "Anjing: Guk Guk!\n",
            "Bebek: Kwek Kwek!\n",
            "Objek Mobil tidak bisa bersuara.\n"
          ]
        }
      ]
    },
    {
      "cell_type": "markdown",
      "source": [
        "# Praktikum 03. Simulasi Overloading dalam Metode Kelas dengan *args"
      ],
      "metadata": {
        "id": "ZeCbNmv0e6Tt"
      }
    },
    {
      "cell_type": "code",
      "source": [
        "class KalkulatorSederhana:\n",
        "  def __init__(self, nama=\"Kalkulator\"):\n",
        "    self.nama = nama\n",
        "    print(f\"{self.nama} siap digunakan.\")\n",
        "\n",
        "  def tambah(self, *args):\n",
        "    \"\"\"\n",
        "    Metode ini menjumlahkan semua argumen angka yang diberikan.\n",
        "    Menerima sejumlah argumen posisi menggunakan *args.\n",
        "    \"\"\"\n",
        "    print(f\"\\nMemanggil metode tambah dengan argumen: {args}\")\n",
        "    if not args:\n",
        "      print(\"Tidak ada angka untuk dijumlahkan.\")\n",
        "      return 0 #Atau bisa juga None atau raise error\n",
        "\n",
        "    total = 0\n",
        "    valid_input = True\n",
        "    for angka in args:\n",
        "      #Melakukan pengecekan tipe sederhana\n",
        "      if isinstance(angka, (int, float)):\n",
        "        total += angka\n",
        "      else:\n",
        "        print(f\"Peringatan: Argumen '{angka}' bukan angka dan akan diabaikan.\")\n",
        "        valid_input = False\n",
        "\n",
        "    if valid_input:\n",
        "      print(f\"Hasil penjumlahan: {total}\")\n",
        "    else:\n",
        "      print(f\"Hasil penjumlahan (dengan beberapa input diabaikan): {total}\")\n",
        "    return total\n",
        "\n",
        "#-- Kode Utama --\n",
        "if __name__ == \"__main__\":\n",
        "  calc = KalkulatorSederhana(\"Calc-01\")\n",
        "\n",
        "  #Memanggil metode 'tambah' dengan jumlah argumen berbeda\n",
        "  print(\"\\n--- Percobaan Penjumlahan ---\")\n",
        "  calc.tambah(5, 10)\n",
        "  calc.tambah(2, 3, 5, 10)\n",
        "  calc.tambah(100)\n",
        "  calc.tambah() #Tanpa Argumen\n",
        "  calc.tambah(1, 2, \"tiga\", 4, 5.5) #Dengan input non-angka"
      ],
      "metadata": {
        "colab": {
          "base_uri": "https://localhost:8080/"
        },
        "id": "syB6CBAUeHBi",
        "outputId": "fcf43d92-cd1e-4754-8ad0-1e28ee99c525"
      },
      "execution_count": 5,
      "outputs": [
        {
          "output_type": "stream",
          "name": "stdout",
          "text": [
            "Calc-01 siap digunakan.\n",
            "\n",
            "--- Percobaan Penjumlahan ---\n",
            "\n",
            "Memanggil metode tambah dengan argumen: (5, 10)\n",
            "Hasil penjumlahan: 15\n",
            "\n",
            "Memanggil metode tambah dengan argumen: (2, 3, 5, 10)\n",
            "Hasil penjumlahan: 20\n",
            "\n",
            "Memanggil metode tambah dengan argumen: (100,)\n",
            "Hasil penjumlahan: 100\n",
            "\n",
            "Memanggil metode tambah dengan argumen: ()\n",
            "Tidak ada angka untuk dijumlahkan.\n",
            "\n",
            "Memanggil metode tambah dengan argumen: (1, 2, 'tiga', 4, 5.5)\n",
            "Peringatan: Argumen 'tiga' bukan angka dan akan diabaikan.\n",
            "Hasil penjumlahan (dengan beberapa input diabaikan): 12.5\n"
          ]
        }
      ]
    },
    {
      "cell_type": "markdown",
      "source": [
        "# Praktikum 04. Simulasi Overloading dalam Metode Kelas dengan *args dan **kwargs"
      ],
      "metadata": {
        "id": "IyVDk33Ahu8m"
      }
    },
    {
      "cell_type": "code",
      "source": [
        "from re import A\n",
        "class DataProcessor:\n",
        "  def __init__(self, processor_id):\n",
        "    self.processor_id = processor_id\n",
        "    print(f\"Data Processor {self.processor_id} siap.\")\n",
        "\n",
        "  def process(self, *args, **kwargs):\n",
        "    \"\"\"\n",
        "    Metode ini memproses data dengan argumen posisi (*args)\n",
        "    dan kata kunci (**kwargs) yang jumlahnya variabel.\n",
        "    \"\"\"\n",
        "    print(f\"\\n--- {self.processor_id} Memproses Data ---\")\n",
        "\n",
        "    #Memproses argumen posisi (*args -> tuple)\n",
        "    if args:\n",
        "      print(\"Argumen Posisi Diterima: \")\n",
        "      for i, arg in enumerate(args):\n",
        "        print(f\"args [{i}]: {arg} (tipe: {type(arg).__name__})\")\n",
        "\n",
        "    else:\n",
        "      print(\"Tidak ada argumen posisi.\")\n",
        "\n",
        "    #Memproses argumen kata kunci (**kwargs -> dict)\n",
        "    if kwargs:\n",
        "      print(\"Argumen Kata Kunci Diterima: \")\n",
        "      for kunci, nilai in kwargs.items():\n",
        "        print(f\"{kunci}: {nilai} (tipe: {type(nilai).__name__})\")\n",
        "\n",
        "    else:\n",
        "      print(\"Tidak ada argumen kata kunci.\")\n",
        "      print(\"---------------------------------\")\n",
        "\n",
        "#--- Kode Utama ---\n",
        "if __name__ == \"__main__\":\n",
        "  #Membuat instnace dari Kelas\n",
        "  processor1 = DataProcessor(\"DP-001\")\n",
        "\n",
        "  #Memanggil metode 'process' dengan berbagai cara\n",
        "  print(\"\\nPanggilan 1: Tanpa argumen tambahan\")\n",
        "  processor1.process()\n",
        "  print(\"\\nPanggilan 2: Hanya argumen posisi\")\n",
        "  processor1.process(100, \"Status OK\", 99.9, False)\n",
        "  print(f\"\\nPanggilan 3: Hanya argumen kata kunci\")\n",
        "  processor1.process(user=\"admin\", level=5, mode=\"verbose\")\n",
        "  print(f\"\\nPanggilan 4: Kombinasi argumen posisi dan kata kunci\")\n",
        "  processor1.process(\"Task-A\", \"Task-B\", status=\"Running\", priority=\"High\", thread_id=54321)\n",
        "\n",
        "  #Panggilan dengan list dan dictionary sebagai argumen posisi\n",
        "  print(\"\\nPanggilan 5: Argumen posisi kompleks\")\n",
        "  list_ids = [\"A1\", \"B2\", \"C3\"]\n",
        "  dict_params = {\"timeout\": 30, \"retry\": 3}\n",
        "  processor1.process(list_ids, dict_params, owner=\"system\", enabled=True)"
      ],
      "metadata": {
        "colab": {
          "base_uri": "https://localhost:8080/"
        },
        "id": "I3F0-deBhT8D",
        "outputId": "68bba996-3124-4b18-c2f7-83f3b1b8e0fc"
      },
      "execution_count": 6,
      "outputs": [
        {
          "output_type": "stream",
          "name": "stdout",
          "text": [
            "Data Processor DP-001 siap.\n",
            "\n",
            "Panggilan 1: Tanpa argumen tambahan\n",
            "\n",
            "--- DP-001 Memproses Data ---\n",
            "Tidak ada argumen posisi.\n",
            "Tidak ada argumen kata kunci.\n",
            "---------------------------------\n",
            "\n",
            "Panggilan 2: Hanya argumen posisi\n",
            "\n",
            "--- DP-001 Memproses Data ---\n",
            "Argumen Posisi Diterima: \n",
            "args [0]: 100 (tipe: int)\n",
            "args [1]: Status OK (tipe: str)\n",
            "args [2]: 99.9 (tipe: float)\n",
            "args [3]: False (tipe: bool)\n",
            "Tidak ada argumen kata kunci.\n",
            "---------------------------------\n",
            "\n",
            "Panggilan 3: Hanya argumen kata kunci\n",
            "\n",
            "--- DP-001 Memproses Data ---\n",
            "Tidak ada argumen posisi.\n",
            "Argumen Kata Kunci Diterima: \n",
            "user: admin (tipe: str)\n",
            "level: 5 (tipe: int)\n",
            "mode: verbose (tipe: str)\n",
            "\n",
            "Panggilan 4: Kombinasi argumen posisi dan kata kunci\n",
            "\n",
            "--- DP-001 Memproses Data ---\n",
            "Argumen Posisi Diterima: \n",
            "args [0]: Task-A (tipe: str)\n",
            "args [1]: Task-B (tipe: str)\n",
            "Argumen Kata Kunci Diterima: \n",
            "status: Running (tipe: str)\n",
            "priority: High (tipe: str)\n",
            "thread_id: 54321 (tipe: int)\n",
            "\n",
            "Panggilan 5: Argumen posisi kompleks\n",
            "\n",
            "--- DP-001 Memproses Data ---\n",
            "Argumen Posisi Diterima: \n",
            "args [0]: ['A1', 'B2', 'C3'] (tipe: list)\n",
            "args [1]: {'timeout': 30, 'retry': 3} (tipe: dict)\n",
            "Argumen Kata Kunci Diterima: \n",
            "owner: system (tipe: str)\n",
            "enabled: True (tipe: bool)\n"
          ]
        }
      ]
    },
    {
      "cell_type": "code",
      "source": [],
      "metadata": {
        "id": "lKBTWzMhl3Yl"
      },
      "execution_count": null,
      "outputs": []
    }
  ]
}