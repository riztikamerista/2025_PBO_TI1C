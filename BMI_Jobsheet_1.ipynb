{
  "nbformat": 4,
  "nbformat_minor": 0,
  "metadata": {
    "colab": {
      "provenance": [],
      "authorship_tag": "ABX9TyNsLCe69IveDmq2qRjbke3t",
      "include_colab_link": true
    },
    "kernelspec": {
      "name": "python3",
      "display_name": "Python 3"
    },
    "language_info": {
      "name": "python"
    }
  },
  "cells": [
    {
      "cell_type": "markdown",
      "metadata": {
        "id": "view-in-github",
        "colab_type": "text"
      },
      "source": [
        "<a href=\"https://colab.research.google.com/github/riztikamerista/2025_PBO_TI1C/blob/main/BMI_Jobsheet_1.ipynb\" target=\"_parent\"><img src=\"https://colab.research.google.com/assets/colab-badge.svg\" alt=\"Open In Colab\"/></a>"
      ]
    },
    {
      "cell_type": "code",
      "source": [
        "def hitung_bmi(berat, tinggi):\n",
        "    tinggi_m = tinggi / 100  # Konversi tinggi dari cm ke meter\n",
        "    bmi = berat / (tinggi_m ** 2)  # Rumus BMI\n",
        "\n",
        "    # Menentukan kategori BMI\n",
        "    if bmi < 18.5:\n",
        "        kategori = \"Underweight\"\n",
        "    elif 18.5 <= bmi < 24.9:\n",
        "        kategori = \"Normal\"\n",
        "    else:\n",
        "        kategori = \"Overweight\"\n",
        "\n",
        "    return bmi, kategori\n",
        "\n",
        "while True:\n",
        "    # Input dari pengguna\n",
        "    berat = float(input(\"Masukkan berat badan (kg): \"))\n",
        "    tinggi = float(input(\"Masukkan tinggi badan (cm): \"))\n",
        "\n",
        "    # Hitung BMI dan tampilkan hasil\n",
        "    bmi, kategori = hitung_bmi(berat, tinggi)\n",
        "    print(f\"BMI Anda: {bmi:.2f}\")\n",
        "    print(f\"Kategori: {kategori}\")\n",
        "\n",
        "    ulang = input(\"Apakah ingin mengisi lagi? (ya/tidak): \").strip().lower()\n",
        "    if ulang != \"ya\":\n",
        "        break"
      ],
      "metadata": {
        "colab": {
          "base_uri": "https://localhost:8080/"
        },
        "id": "aP756ixaPa3y",
        "outputId": "53ff97b9-5e37-4891-d840-5bafb30c864f"
      },
      "execution_count": 6,
      "outputs": [
        {
          "name": "stdout",
          "output_type": "stream",
          "text": [
            "Masukkan berat badan (kg): 50\n",
            "Masukkan tinggi badan (cm): 160\n",
            "BMI Anda: 19.53\n",
            "Kategori: Normal\n",
            "Apakah ingin mengisi lagi? (ya/tidak): ya\n",
            "Masukkan berat badan (kg): 60\n",
            "Masukkan tinggi badan (cm): 150\n",
            "BMI Anda: 26.67\n",
            "Kategori: Overweight\n",
            "Apakah ingin mengisi lagi? (ya/tidak): ya\n",
            "Masukkan berat badan (kg): 48\n",
            "Masukkan tinggi badan (cm): 165\n",
            "BMI Anda: 17.63\n",
            "Kategori: Underweight\n",
            "Apakah ingin mengisi lagi? (ya/tidak): tidak\n"
          ]
        }
      ]
    },
    {
      "cell_type": "code",
      "source": [],
      "metadata": {
        "id": "P14ctDvrNps8"
      },
      "execution_count": null,
      "outputs": []
    }
  ]
}