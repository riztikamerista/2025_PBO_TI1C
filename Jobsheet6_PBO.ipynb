{
  "nbformat": 4,
  "nbformat_minor": 0,
  "metadata": {
    "colab": {
      "provenance": [],
      "authorship_tag": "ABX9TyPWykF6HVyMiJqUkDeVtuMt",
      "include_colab_link": true
    },
    "kernelspec": {
      "name": "python3",
      "display_name": "Python 3"
    },
    "language_info": {
      "name": "python"
    }
  },
  "cells": [
    {
      "cell_type": "markdown",
      "metadata": {
        "id": "view-in-github",
        "colab_type": "text"
      },
      "source": [
        "<a href=\"https://colab.research.google.com/github/riztikamerista/2025_PBO_TI1C/blob/main/Jobsheet6_PBO.ipynb\" target=\"_parent\"><img src=\"https://colab.research.google.com/assets/colab-badge.svg\" alt=\"Open In Colab\"/></a>"
      ]
    },
    {
      "cell_type": "markdown",
      "source": [
        "# Praktikum 01. Mendefinisikan Kelas Abstrak Sederhana"
      ],
      "metadata": {
        "id": "e84YqMZFzmq5"
      }
    },
    {
      "cell_type": "code",
      "source": [
        "#Impor komponen yang diperlukan dari modul abc\n",
        "from abc import ABC, abstractmethod\n",
        "\n",
        "#1. Definisikan kelas abstrak\n",
        "#   Kelas ini mewarisi dari ABC untuk menandakan bahwa dia adalah\n",
        "#   Abstract Base Class.\n",
        "class KendaraanAbstrak(ABC):\n",
        "  def __init__(self, merk):\n",
        "    self.merk = merk\n",
        "    print(f\"Inisialisasi KendaraanAbstrak dengan merk: {self.merk}\")\n",
        "\n",
        "  #Metode konkret (tidak abstrak)\n",
        "  #Metode ini sudah memiliki implementasi dan bisa diwarisi langsung\n",
        "  def info_merk(self):\n",
        "    print(f\"Merk kendaraan kendaraan ini adalah {self.merk}.\")\n",
        "\n",
        "  #2. Definisikan Metode Abstrak\n",
        "  #   Dekorator @abstractmethod menandakan metode ini WAJIB\n",
        "  #   diimplementasikan (di-override) oleh subclass konkret\n",
        "  @abstractmethod\n",
        "  def start_mesin(self):\n",
        "    #Kode di dalam ini adalah implementasinya\n",
        "    print(f\"Mesin mobil {self.merk} dinyalakan.\") #Mencetak status dinyalakan\n",
        "\n",
        "  #Kelas Mobil ini juga akan menjadi abstrak\n",
        "  def stop_mesin(self):\n",
        "    #Kode di dalam ini adlaah implementasinya\n",
        "    print(f\"Mesin mobil {self.merk} dimatikan.\") #Mencetak status dimatikan\n",
        "\n",
        "#Kode Utama (Hanya definisi, belum ada instansiasi kelas abstrak)\n",
        "if __name__ == \"__main__\":\n",
        "  print(\"Definisi Kelas Abstrak 'KendaraanAbstrak' selesai.\")\n",
        "\n",
        "  #contoh definisi kelas anak (konkret)\n",
        "  #Kelas ini mewarisi dari KendaraanAbstrak\n",
        "  class Mobil (KendaraanAbstrak):\n",
        "    #Implementasi metode abstrak start_mesin\n",
        "    def start_mesin(self):\n",
        "      #Kode di dalam metode ini adalah implementasinya\n",
        "      print(f\"Mesin mobil {self.merk} dinyalakan.\") #Mencetak status 'dinyalakan'\n",
        "\n",
        "      #Implementasi metode abstrak stop_mesin\n",
        "      #Jika salah satu metode abstrak tidak diimplementasi,\n",
        "      #kelas Mobil ini juga akan menjadi abstrak.\n",
        "      def stop_mesin(self):\n",
        "        #Kode di dalam ini adalah implementasinya\n",
        "        print(f\"Mesin mobil {self.merk} dimatikan.\") #Mencetak status 'dimatikan'\n",
        "\n",
        "  print(\"\\nContoh definisi kelas anak 'Mobil' selesai.\")\n",
        "\n",
        "  #Membuat objek dari kelas anak (konkret) diperbolehkan\n",
        "  mobil_contoh = Mobil(\"Toyota\")\n",
        "\n",
        "  #Memanggil metode yang diimplementasi di kelas anak\n",
        "  mobil_contoh.start_mesin()\n",
        "\n",
        "  #Memanggil metode konkret yang diwarisi dari kelas abstrak\n",
        "  mobil_contoh.info_merk()\n",
        "\n",
        "  #Memanggil metode lain yang diimplementasi di kelas anak\n",
        "  mobil_contoh.stop_mesin()"
      ],
      "metadata": {
        "id": "Si6nbp4lba3p",
        "colab": {
          "base_uri": "https://localhost:8080/"
        },
        "outputId": "817ae9c1-d550-4a8c-f258-ede6d99bf0f7"
      },
      "execution_count": 1,
      "outputs": [
        {
          "output_type": "stream",
          "name": "stdout",
          "text": [
            "Definisi Kelas Abstrak 'KendaraanAbstrak' selesai.\n",
            "\n",
            "Contoh definisi kelas anak 'Mobil' selesai.\n",
            "Inisialisasi KendaraanAbstrak dengan merk: Toyota\n",
            "Mesin mobil Toyota dinyalakan.\n",
            "Merk kendaraan kendaraan ini adalah Toyota.\n",
            "Mesin mobil Toyota dimatikan.\n"
          ]
        }
      ]
    },
    {
      "cell_type": "markdown",
      "source": [
        "# Praktikum 02. Mencoba Instansiasi Kelas Abstrak"
      ],
      "metadata": {
        "id": "u6Tbq99S44dR"
      }
    },
    {
      "cell_type": "code",
      "source": [
        "from abc import ABC, abstractmethod\n",
        "\n",
        "#Definisikan kelas Abstrak\n",
        "class MediaAbstrak(ABC):\n",
        "  def __init__ (self, judul):\n",
        "    self.judul = judul\n",
        "    print(f\"Inisialisasi MediaAbstrak dengan judul: {self.judul}.\")\n",
        "\n",
        "  @abstractmethod\n",
        "  def stop (self):\n",
        "    \"\"\"Metode abstrak untuk menghentikan pemutaran.\"\"\"\n",
        "    pass\n",
        "\n",
        "#Kode Utama\n",
        "if __name__ == \"__main__\":\n",
        "  print(\"Mencoba mmebuat objek dari kelas abstrak MediaAbstrak...\")\n",
        "\n",
        "  #Blok try-except untuk menangkap error yang diharapkan\n",
        "  try:\n",
        "    #Baris ini akan menyebabkan TypeError karena MediaAbstrak\n",
        "    #Memiliki metode abstrak (play dan stop) yang belum diimplementasi\n",
        "    media = MediaAbstrak(\"Konten Abstrak\")\n",
        "\n",
        "    #Kode dibawah ini tidak akan pernah dijalankan jika error terjadi\n",
        "    print(\"Objek berhasil dibuat (SEHARUSNYA TIDAK TERJADI).\")\n",
        "    media.play()\n",
        "\n",
        "  except TypeError as e:\n",
        "    #Menangkap dan menampilkan error TypeError\n",
        "    print(f\"\\nGAGAL membuat objek!\")\n",
        "    print(f\"Error yang muncul (sesuai harapan): {e}\")\n",
        "    print(\"\\nIni membuktikan bahwa kelas abstrak tidak bisa diinstansiasi.\")\n",
        "    print(\"jika masih memiliki metode abstrak yang belum diimplementasikan\")"
      ],
      "metadata": {
        "colab": {
          "base_uri": "https://localhost:8080/"
        },
        "id": "7o7Wn46P4au9",
        "outputId": "fcd6e292-d110-4173-a853-988903510673"
      },
      "execution_count": 2,
      "outputs": [
        {
          "output_type": "stream",
          "name": "stdout",
          "text": [
            "Mencoba mmebuat objek dari kelas abstrak MediaAbstrak...\n",
            "\n",
            "GAGAL membuat objek!\n",
            "Error yang muncul (sesuai harapan): Can't instantiate abstract class MediaAbstrak with abstract method stop\n",
            "\n",
            "Ini membuktikan bahwa kelas abstrak tidak bisa diinstansiasi.\n",
            "jika masih memiliki metode abstrak yang belum diimplementasikan\n"
          ]
        }
      ]
    },
    {
      "cell_type": "markdown",
      "source": [
        "# Praktikum 03. Membuat Subclass Konkret-Alat Pembayaran"
      ],
      "metadata": {
        "id": "dSsgvT5d7Q5M"
      }
    },
    {
      "cell_type": "code",
      "source": [
        "!apt-get install -y locales\n",
        "!locale-gen id_ID.UTF-8\n",
        "!update-locale"
      ],
      "metadata": {
        "colab": {
          "base_uri": "https://localhost:8080/"
        },
        "id": "fY1HU4LPEmWQ",
        "outputId": "3896d689-eb13-4da4-ca48-b82e15330e54"
      },
      "execution_count": 3,
      "outputs": [
        {
          "output_type": "stream",
          "name": "stdout",
          "text": [
            "Reading package lists... Done\n",
            "Building dependency tree... Done\n",
            "Reading state information... Done\n",
            "locales is already the newest version (2.35-0ubuntu3.9).\n",
            "0 upgraded, 0 newly installed, 0 to remove and 34 not upgraded.\n",
            "Generating locales (this might take a while)...\n",
            "  id_ID.UTF-8... done\n",
            "Generation complete.\n"
          ]
        }
      ]
    },
    {
      "cell_type": "code",
      "source": [
        "from abc import ABC, abstractmethod\n",
        "import locale\n",
        "import random #Untuk simulasi\n",
        "\n",
        "#Setting locale Indonesia\n",
        "try:\n",
        "  locale.setlocale(locale.LC_ALL, 'id_ID.UTF-8')\n",
        "except locale.Error:\n",
        "  print(\"Locale id_ID.UTF-8 tidak tersedia, gunakan locale default.\")\n",
        "\n",
        "def format_rupiah(angka):\n",
        "  return locale.currency(angka, grouping=True, symbol='Rp ')\n",
        "\n",
        "#Kelas Abstrak\n",
        "class AlatPembayaranAbstrak(ABC):\n",
        "  def __init__(self, nama_metode):\n",
        "    self.nama_metode =  nama_metode\n",
        "    print(f\"Inisialisasi alat pembayaran: {self.nama_metode}.\")\n",
        "\n",
        "  def info(self):\n",
        "    print(f\"Metode Pembayaran: {self.nama_metode}.\")\n",
        "\n",
        "  @abstractmethod\n",
        "  def proses_pembayaran(self, jumlah):\n",
        "    \"\"\"\n",
        "    Metode abstrak untuk memproses pembayaran sejumlah 'jumlah'.\n",
        "    Harus diimplementasikan oleh subclass.\n",
        "    Harus mengembalikan True jika berhasil, False jika gagal.\n",
        "    \"\"\"\n",
        "    pass\n",
        "\n",
        "#Implementasi Subclass Konkret\n",
        "\n",
        "#1. Subclass Konkret Pertama: KartuKredit\n",
        "class KartuKredit(AlatPembayaranAbstrak):\n",
        "  def __init__(self, nomor_kartu, nama_pemilik):\n",
        "    super().__init__(\"Kartu Kredit\")\n",
        "    self.nomor_kartu = nomor_kartu[-4:] #Simpan 4 digit terakhir saja\n",
        "    self.nama_pemilik = nama_pemilik\n",
        "    print(f\"---> Kartu Kredit *********** {self.nomor_kartu} ({self.nama_pemilik}) siap.\")\n",
        "\n",
        "  #Implementasi metode abstrak metode_pembayaran\n",
        "  def proses_pembayaran(self, jumlah):\n",
        "    print(f\"Memproses pembayaran {format_rupiah(jumlah)} via Kartu Kredit *********{self.nomor_kartu}...\")\n",
        "    #Simulasi keberhasilan/kegagalan\n",
        "    berhasil = random.choice([True, False])\n",
        "    if berhasil:\n",
        "      print(\"Pembayaran Kartu Kredit Berhasil\")\n",
        "      return True\n",
        "    else:\n",
        "      print(\"Pembayaran Kartu Kredit Gagal (Limit tidak cukup/Error).\")\n",
        "      return False\n",
        "#2. Subclass Konkret Kedua:DompetDigital\n",
        "class DompetDigital(AlatPembayaranAbstrak):\n",
        "  def __init__(self, nomor_telepon, nama_provider):\n",
        "    super().__init__(\"Dompet Digital ({nama_provider})\")\n",
        "    self.nomor_telepon = nomor_telepon\n",
        "    self._saldo = random.randint(50000, 500000) #Saldo awal acak\n",
        "    print(f\"---> Dompet Digital {self.nomor_telepon} siap (Saldo:{format_rupiah(self._saldo)}).\")\n",
        "\n",
        "  #Implementasi metode abstrak proses_pembayaran\n",
        "  def proses_pembayaran(self, jumlah):\n",
        "    print(f\"Memproses pembayaran {format_rupiah(jumlah)} via Dompet Digital {self.nomor_telepon}...\")\n",
        "    if jumlah <= self._saldo:\n",
        "      self._saldo -= jumlah\n",
        "      print(\"Pembayaran Dompet Digital Berhasil\")\n",
        "      print(f\"Saldo tersisa: {format_rupiah(self._saldo)}\")\n",
        "      return True\n",
        "    else:\n",
        "      print(\"Pembayaran Dompet Digital Gagal (Saldo tidak mencukupi).\")\n",
        "      print(f\"Saldo saat ini: {format_rupiah(self._saldo)}\")\n",
        "      return False\n",
        "\n",
        "#Kode Utama\n",
        "if __name__ == \"__main__\":\n",
        "  print(\"\\nMembuat Objek Alat Pembayaran...\")\n",
        "  kartu_bca = KartuKredit(\"1234-5678-9012-3456\", \"Budi Cahyono\")\n",
        "  gopay = DompetDigital(\"08123456789\", \"GoPay\")\n",
        "\n",
        "  print(\"\\nMelakukan Pembayaran: \")\n",
        "  print(\"\\nMencoba Bayar dengan Kartu Kredit: \")\n",
        "  kartu_bca.info()\n",
        "  status_kk = kartu_bca.proses_pembayaran(150000)\n",
        "  print(f\"Status Transaksi KK: {'Sukses' if status_kk else 'Gagal'}\")\n",
        "\n",
        "  print(\"\\nMencoba membayar dengan GoPay (Jumlah Kecil):\")\n",
        "  gopay.info()\n",
        "  status_gopay1 = gopay.proses_pembayaran(75000)\n",
        "  print(f\"Status Transaksi Gopay 1: {'Sukses' if status_gopay1 else 'Gagal'}\")\n",
        "\n",
        "  print(\"\\nMencoba membayar dengan GoPay (Jumlah Besar): \")\n",
        "  gopay.info()\n",
        "  status_gopay2 = gopay.proses_pembayaran(1000000) #Kemungkinan gagal karena saldo\n",
        "  print(f\"Status Transaksi GoPay 2: {'Sukses' if status_gopay2 else 'Gagal'}\")"
      ],
      "metadata": {
        "colab": {
          "base_uri": "https://localhost:8080/"
        },
        "id": "mGA4RL8s7C3Z",
        "outputId": "7952a5c2-2af8-4aa2-b47f-f26346b32be5"
      },
      "execution_count": 4,
      "outputs": [
        {
          "output_type": "stream",
          "name": "stdout",
          "text": [
            "\n",
            "Membuat Objek Alat Pembayaran...\n",
            "Inisialisasi alat pembayaran: Kartu Kredit.\n",
            "---> Kartu Kredit *********** 3456 (Budi Cahyono) siap.\n",
            "Inisialisasi alat pembayaran: Dompet Digital ({nama_provider}).\n",
            "---> Dompet Digital 08123456789 siap (Saldo:Rp249.507,00).\n",
            "\n",
            "Melakukan Pembayaran: \n",
            "\n",
            "Mencoba Bayar dengan Kartu Kredit: \n",
            "Metode Pembayaran: Kartu Kredit.\n",
            "Memproses pembayaran Rp150.000,00 via Kartu Kredit *********3456...\n",
            "Pembayaran Kartu Kredit Berhasil\n",
            "Status Transaksi KK: Sukses\n",
            "\n",
            "Mencoba membayar dengan GoPay (Jumlah Kecil):\n",
            "Metode Pembayaran: Dompet Digital ({nama_provider}).\n",
            "Memproses pembayaran Rp75.000,00 via Dompet Digital 08123456789...\n",
            "Pembayaran Dompet Digital Berhasil\n",
            "Saldo tersisa: Rp174.507,00\n",
            "Status Transaksi Gopay 1: Sukses\n",
            "\n",
            "Mencoba membayar dengan GoPay (Jumlah Besar): \n",
            "Metode Pembayaran: Dompet Digital ({nama_provider}).\n",
            "Memproses pembayaran Rp1.000.000,00 via Dompet Digital 08123456789...\n",
            "Pembayaran Dompet Digital Gagal (Saldo tidak mencukupi).\n",
            "Saldo saat ini: Rp174.507,00\n",
            "Status Transaksi GoPay 2: Gagal\n"
          ]
        }
      ]
    },
    {
      "cell_type": "code",
      "source": [],
      "metadata": {
        "id": "hPWci9JLEJTv"
      },
      "execution_count": 4,
      "outputs": []
    }
  ]
}