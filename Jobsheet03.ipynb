{
  "nbformat": 4,
  "nbformat_minor": 0,
  "metadata": {
    "colab": {
      "provenance": [],
      "authorship_tag": "ABX9TyMdOAUV0KYfJETEuASlPIxU",
      "include_colab_link": true
    },
    "kernelspec": {
      "name": "python3",
      "display_name": "Python 3"
    },
    "language_info": {
      "name": "python"
    }
  },
  "cells": [
    {
      "cell_type": "markdown",
      "metadata": {
        "id": "view-in-github",
        "colab_type": "text"
      },
      "source": [
        "<a href=\"https://colab.research.google.com/github/riztikamerista/2025_PBO_TI1C/blob/main/Jobsheet03.ipynb\" target=\"_parent\"><img src=\"https://colab.research.google.com/assets/colab-badge.svg\" alt=\"Open In Colab\"/></a>"
      ]
    },
    {
      "cell_type": "markdown",
      "source": [
        "## Praktikum 1. Enkapsulasi pada kelas Bank Account"
      ],
      "metadata": {
        "id": "nmc2b5ybbETA"
      }
    },
    {
      "cell_type": "code",
      "execution_count": 1,
      "metadata": {
        "colab": {
          "base_uri": "https://localhost:8080/"
        },
        "id": "k1mF_zE2aWGc",
        "outputId": "28bcf283-653e-4499-a75f-1296e31f8bed"
      },
      "outputs": [
        {
          "output_type": "stream",
          "name": "stdout",
          "text": [
            "500 telah ditambahkan ke akun Alice.\n",
            "Jumlah deposit harus lebih dari 0.\n",
            "300 telah ditarik dari akun Alice.\n",
            "Saldo tidak mencukupi.\n",
            "Saldo terakhir di akun Alice: 1200\n"
          ]
        }
      ],
      "source": [
        "class BankAccount:\n",
        "  def __init__(self, owner, balance):\n",
        "    # Atribut dengan double underscore (__) dianggap \"private\" di Python\n",
        "      self.__owner = owner\n",
        "      self.__balance = balance\n",
        "  def deposit(self, amount):\n",
        "    \"\"\"Method untuk menambahkan saldo.\"\"\"\n",
        "    if amount > 0:\n",
        "      self.__balance += amount\n",
        "      print(f\"{amount} telah ditambahkan ke akun {self.__owner}.\")\n",
        "    else:\n",
        "      print(\"Jumlah deposit harus lebih dari 0.\")\n",
        "\n",
        "  def withdraw(self, amount):\n",
        "    \"\"\"Method untuk menarik saldo.\"\"\"\n",
        "    if amount <= self.__balance:\n",
        "      self.__balance -= amount\n",
        "      print(f\"{amount} telah ditarik dari akun {self.__owner}.\")\n",
        "    else:\n",
        "      print(\"Saldo tidak mencukupi.\")\n",
        "\n",
        "  def get_balance(self):\n",
        "    \"\"\"Method untuk mendapatkan informasi saldo terkini.\"\"\"\n",
        "    return self.__balance\n",
        "\n",
        "# Contoh penggunaan\n",
        "if __name__ == \"__main__\":\n",
        "  # Membuat objek BankAccount dengan owner=\"Alice\" dan balance awal 1000\n",
        "\n",
        "  alice_account = BankAccount(owner=\"Alice\", balance=1000)\n",
        "\n",
        "  # Deposit uang\n",
        "  alice_account.deposit(500) # Berhasil\n",
        "  alice_account.deposit(-100) # Gagal (validasi)\n",
        "\n",
        "  # Withdraw uang\n",
        "  alice_account.withdraw(300) # Berhasil\n",
        "  alice_account.withdraw(2000) # Gagal (saldo tidak cukup)\n",
        "\n",
        "  # Mendapatkan saldo\n",
        "  current_balance = alice_account.get_balance()\n",
        "  print(f\"Saldo terakhir di akun {alice_account._BankAccount__owner}: {current_balance}\")\n",
        "\n",
        "  # Mencoba mengakses atribut 'private' langsung (tidak direkomendasikan)\n",
        "  # alice_account.__balance # Akan error\n",
        "  # Karena Python “mangling” nama atribut __balance menjadi_BankAccount__balance\n",
        "  # Ini adalah salah satu mekanisme enkapsulasi sederhana di Python."
      ]
    },
    {
      "cell_type": "markdown",
      "source": [
        "# Praktikum 2. Enkapsulasi pada kelas Employee"
      ],
      "metadata": {
        "id": "cTbE-dtidSKq"
      }
    },
    {
      "cell_type": "code",
      "source": [
        "class Employee:\n",
        "  def __init__(self, name, salary):\n",
        "    # Atribut privat dengan double underscore\n",
        "    self.__name = name\n",
        "    self.__salary = salary\n",
        "\n",
        "  def update_salary(self, increase):\n",
        "      \"\"\"Method untuk menaikkan gaji dengan validasi.\"\"\"\n",
        "      if increase > 0:\n",
        "        self.__salary += increase\n",
        "        print(f\"Gaji telah dinaikkan sebesar {increase}.\")\n",
        "      else:\n",
        "        print(\"Nilai kenaikan harus lebih dari 0.\")\n",
        "\n",
        "  def set_salary(self, new_salary):\n",
        "      \"\"\"Method untuk mengubah gaji dengan validasi.\"\"\"\n",
        "      if new_salary >= 0:\n",
        "        self.__salary = new_salary\n",
        "        print(f\"Gaji diatur ulang menjadi {new_salary}.\")\n",
        "      else:\n",
        "        print(\"Gaji tidak dapat bernilai negatif.\")\n",
        "\n",
        "  def get_salary(self):\n",
        "      \"\"\"Method untuk mendapatkan informasi gaji.\"\"\"\n",
        "      return self.__salary\n",
        "\n",
        "  def get_employee_info(self):\n",
        "    \"\"\"Method untuk menampilkan informasi karyawan secara menyeluruh.\"\"\"\n",
        "    return f\"Employee: {self.__name}, Gaji: {self.__salary}\"\n",
        "\n",
        "# Contoh penggunaan\n",
        "if __name__ == \"__main__\":\n",
        "  # Membuat objek Employee dengan nama \"John Doe\" dan gaji awal 50000\n",
        "  employee1 = Employee(\"John Doe\", 50000)\n",
        "\n",
        "  # Tampilkan informasi karyawan\n",
        "  print(employee1.get_employee_info())\n",
        "\n",
        "  # Update gaji dengan menaikkan sebesar 5000\n",
        "  employee1.update_salary(5000)\n",
        "  print(f\"Gaji setelah kenaikan: {employee1.get_salary()}\")\n",
        "\n",
        "  # Atur ulang gaji dengan nilai baru\n",
        "  employee1.set_salary(60000)\n",
        "  print(f\"Informasi terbaru: {employee1.get_employee_info()}\")\n",
        "\n",
        "# Mencoba mengakses atribut privat secara langsung (tidak direkomendasikan)\n",
        "# Contoh: print(employee1.__salary) --> Ini akan menimbulkan error"
      ],
      "metadata": {
        "colab": {
          "base_uri": "https://localhost:8080/"
        },
        "id": "YKklJ16vdfOS",
        "outputId": "ddda480a-6e13-4429-ae5b-3a30feb30c7f"
      },
      "execution_count": 2,
      "outputs": [
        {
          "output_type": "stream",
          "name": "stdout",
          "text": [
            "Employee: John Doe, Gaji: 50000\n",
            "Gaji telah dinaikkan sebesar 5000.\n",
            "Gaji setelah kenaikan: 55000\n",
            "Gaji diatur ulang menjadi 60000.\n",
            "Informasi terbaru: Employee: John Doe, Gaji: 60000\n"
          ]
        }
      ]
    },
    {
      "cell_type": "markdown",
      "source": [
        "# Praktikum 3. Konstruktor dan Destruktor Sederhana"
      ],
      "metadata": {
        "id": "13i7aqZUfCLr"
      }
    },
    {
      "cell_type": "code",
      "source": [
        "class SimpleExample:\n",
        "  def __init__(self, name):\n",
        "    \"\"\"\n",
        "    Konstruktor: Dipanggil saat objek dibuat.\n",
        "    Menyimpan nilai 'name' dan mencetak pesan pembuatan objek.\n",
        "    \"\"\"\n",
        "    self.name = name\n",
        "    print(f\"Konstruktor: Objek '{self.name}' telah dibuat.\")\n",
        "\n",
        "  def __del__(self):\n",
        "    \"\"\"\n",
        "    Destruktor: Dipanggil saat objek dihapus.\n",
        "    Mencetak pesan bahwa objek sedang dihapus.\n",
        "    \"\"\"\n",
        "    print(f\"Destruktor: Objek '{self.name}' sedang dihapus.\")\n",
        "\n",
        "def main():\n",
        "  print(\"Program dimulai.\\n\")\n",
        "\n",
        "  # Membuat objek SimpleExample\n",
        "  obj = SimpleExample(\"Demo\")\n",
        "  print(\"Program sedang berjalan...\\n\")\n",
        "\n",
        "  # Menghapus objek secara eksplisit\n",
        "  del obj\n",
        "  print(\"Objek telah dihapus secara eksplisit.\\n\")\n",
        "\n",
        "  print(\"Program selesai.\")\n",
        "\n",
        "if __name__ == \"__main__\":\n",
        "  main()"
      ],
      "metadata": {
        "colab": {
          "base_uri": "https://localhost:8080/"
        },
        "id": "C_08rhfJeZoK",
        "outputId": "2d85a6fe-2cc7-4f88-dd61-f20370e98089"
      },
      "execution_count": 3,
      "outputs": [
        {
          "output_type": "stream",
          "name": "stdout",
          "text": [
            "Program dimulai.\n",
            "\n",
            "Konstruktor: Objek 'Demo' telah dibuat.\n",
            "Program sedang berjalan...\n",
            "\n",
            "Destruktor: Objek 'Demo' sedang dihapus.\n",
            "Objek telah dihapus secara eksplisit.\n",
            "\n",
            "Program selesai.\n"
          ]
        }
      ]
    },
    {
      "cell_type": "markdown",
      "source": [
        "# Praktikum 4. Konstruktoe dan Destruktor program FileLogger"
      ],
      "metadata": {
        "id": "1RYP7YxHgRIL"
      }
    },
    {
      "cell_type": "code",
      "source": [
        "class FileLogger:\n",
        "  def __init__(self, filename):\n",
        "    \"\"\"\n",
        "    Konstruktor: Membuka file log untuk menulis pesan.\n",
        "    Parameter:\n",
        "    - filename: Nama file tempat pesan log akan ditulis.\n",
        "    \"\"\"\n",
        "    self.filename = filename\n",
        "    try:\n",
        "      self.file = open(filename, \"a\") # Membuka file dalam mode append\n",
        "      print(f\"File '{filename}' berhasil dibuka untuk logging.\")\n",
        "    except Exception as e:\n",
        "      print(f\"Gagal membuka file '{filename}': {e}\")\n",
        "\n",
        "  def write_log(self, message):\n",
        "    \"\"\"\n",
        "    Menulis pesan log ke dalam file.\n",
        "    Parameter:\n",
        "    - message: Pesan yang akan ditulis ke file.\n",
        "    \"\"\"\n",
        "    self.file.write(message + \"\\n\")\n",
        "    self.file.flush() # Memastikan pesan langsung ditulis ke disk\n",
        "    print(f\"Pesan log: '{message}' telah ditulis.\")\n",
        "\n",
        "  def __del__(self):\n",
        "    \"\"\"\n",
        "    Destruktor: Menutup file log ketika objek dihapus.\n",
        "    \"\"\"\n",
        "    if hasattr(self, \"file\") and not self.file.closed:\n",
        "      self.file.close()\n",
        "      print(f\"File '{self.filename}' telah ditutup.\")\n",
        "\n",
        "\n",
        "# Contoh penggunaan dalam skenario nyata aplikasi\n",
        "if __name__ == \"__main__\":\n",
        "  # Membuat objek logger untuk file \"application.log\"\n",
        "  logger = FileLogger(\"application.log\")\n",
        "\n",
        "  # Menulis beberapa pesan log selama operasi aplikasi\n",
        "  logger.write_log(\"Aplikasi dimulai.\")\n",
        "  logger.write_log(\"Melakukan operasi A...\")\n",
        "  logger.write_log(\"Operasi A selesai.\")\n",
        "  logger.write_log(\"Aplikasi akan segera selesai.\")\n",
        "\n",
        "  # Menghapus objek logger secara eksplisit\n",
        "  del logger\n",
        "\n",
        "# Jika objek tidak dihapus secara eksplisit, destruktor akan dipanggil\n",
        "# ketika program berakhir dan garbage collection membersihkan objek tersebut."
      ],
      "metadata": {
        "colab": {
          "base_uri": "https://localhost:8080/"
        },
        "id": "zxXJjZNegX5k",
        "outputId": "7641aaa0-eba7-433b-e9fd-cc9bd560dd78"
      },
      "execution_count": 4,
      "outputs": [
        {
          "output_type": "stream",
          "name": "stdout",
          "text": [
            "File 'application.log' berhasil dibuka untuk logging.\n",
            "Pesan log: 'Aplikasi dimulai.' telah ditulis.\n",
            "Pesan log: 'Melakukan operasi A...' telah ditulis.\n",
            "Pesan log: 'Operasi A selesai.' telah ditulis.\n",
            "Pesan log: 'Aplikasi akan segera selesai.' telah ditulis.\n",
            "File 'application.log' telah ditutup.\n"
          ]
        }
      ]
    }
  ]
}