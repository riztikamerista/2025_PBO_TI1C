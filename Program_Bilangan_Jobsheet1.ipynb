{
  "nbformat": 4,
  "nbformat_minor": 0,
  "metadata": {
    "colab": {
      "provenance": [],
      "authorship_tag": "ABX9TyNcFLp9G+BY0paypkJCgcf+",
      "include_colab_link": true
    },
    "kernelspec": {
      "name": "python3",
      "display_name": "Python 3"
    },
    "language_info": {
      "name": "python"
    }
  },
  "cells": [
    {
      "cell_type": "markdown",
      "metadata": {
        "id": "view-in-github",
        "colab_type": "text"
      },
      "source": [
        "<a href=\"https://colab.research.google.com/github/riztikamerista/2025_PBO_TI1C/blob/main/Program_Bilangan_Jobsheet1.ipynb\" target=\"_parent\"><img src=\"https://colab.research.google.com/assets/colab-badge.svg\" alt=\"Open In Colab\"/></a>"
      ]
    },
    {
      "cell_type": "code",
      "execution_count": 1,
      "metadata": {
        "colab": {
          "base_uri": "https://localhost:8080/"
        },
        "id": "Lumx1fUCW_rm",
        "outputId": "d1f389ab-d9f5-457c-b9ac-605a0cdad661"
      },
      "outputs": [
        {
          "name": "stdout",
          "output_type": "stream",
          "text": [
            "Masukkan bilangan: 12\n",
            "Bilangan 12 adalah Genap\n",
            "Apakah ingin mengecek lagi? (ya/tidak): ya\n",
            "Masukkan bilangan: 9\n",
            "Bilangan 9 adalah Ganjil\n",
            "Apakah ingin mengecek lagi? (ya/tidak): ya\n",
            "Masukkan bilangan: 5\n",
            "Bilangan 5 adalah Ganjil & Prima\n",
            "Apakah ingin mengecek lagi? (ya/tidak): tidak\n"
          ]
        }
      ],
      "source": [
        "def cek_prima(n):\n",
        "    if n < 2:\n",
        "        return False\n",
        "    for i in range(2, int(n ** 0.5) + 1):\n",
        "        if n % i == 0:\n",
        "            return False\n",
        "    return True\n",
        "\n",
        "def cek_bilangan(n):\n",
        "    if n % 2 == 0:\n",
        "        jenis = \"Genap\"\n",
        "    else:\n",
        "        jenis = \"Ganjil\"\n",
        "\n",
        "    if cek_prima(n):\n",
        "        jenis += \" & Prima\"\n",
        "\n",
        "    return jenis\n",
        "\n",
        "while True:\n",
        "    try:\n",
        "        angka = int(input(\"Masukkan bilangan: \"))\n",
        "        hasil = cek_bilangan(angka)\n",
        "        print(f\"Bilangan {angka} adalah {hasil}\")\n",
        "\n",
        "        ulang = input(\"Apakah ingin mengecek lagi? (ya/tidak): \").strip().lower()\n",
        "        if ulang != \"ya\":\n",
        "            break\n",
        "    except ValueError:\n",
        "        print(\"Harap masukkan bilangan bulat yang valid!\")"
      ]
    },
    {
      "cell_type": "code",
      "source": [],
      "metadata": {
        "id": "O-DFpKjRXblg"
      },
      "execution_count": null,
      "outputs": []
    }
  ]
}